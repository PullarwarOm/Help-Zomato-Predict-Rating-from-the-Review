{
 "cells": [
  {
   "cell_type": "markdown",
   "metadata": {},
   "source": [
    "# <font color = purple>Problem Statement \n",
    "<font color = purple>Here we must to make a machine learning model where we can predict the rating of a customer by using there review so that we can validated the rating given by the customer. This will help us indentify case of mismatch and we can remove those mismatched reviews from zomato which will that build customer trust on the platform and helps the user get an accurate picture of the restaurant. \n"
   ]
  },
  {
   "cell_type": "code",
   "execution_count": 25,
   "metadata": {
    "id": "wdAU74UiFUZY"
   },
   "outputs": [],
   "source": [
    "import pandas as pd\n",
    "import numpy as np\n",
    "import re\n",
    "import nltk"
   ]
  },
  {
   "cell_type": "code",
   "execution_count": 2,
   "metadata": {
    "colab": {
     "base_uri": "https://localhost:8080/",
     "height": 112
    },
    "id": "mQRkUCzSKfzH",
    "outputId": "42465f6b-80df-4ba8-84e2-855d60c27932"
   },
   "outputs": [
    {
     "data": {
      "text/html": [
       "\n",
       "  <div id=\"df-d42044ba-b579-48b7-b471-5f81e1585431\">\n",
       "    <div class=\"colab-df-container\">\n",
       "      <div>\n",
       "<style scoped>\n",
       "    .dataframe tbody tr th:only-of-type {\n",
       "        vertical-align: middle;\n",
       "    }\n",
       "\n",
       "    .dataframe tbody tr th {\n",
       "        vertical-align: top;\n",
       "    }\n",
       "\n",
       "    .dataframe thead th {\n",
       "        text-align: right;\n",
       "    }\n",
       "</style>\n",
       "<table border=\"1\" class=\"dataframe\">\n",
       "  <thead>\n",
       "    <tr style=\"text-align: right;\">\n",
       "      <th></th>\n",
       "      <th>rating</th>\n",
       "      <th>review_text</th>\n",
       "    </tr>\n",
       "  </thead>\n",
       "  <tbody>\n",
       "    <tr>\n",
       "      <th>0</th>\n",
       "      <td>1.0</td>\n",
       "      <td>Their service is worst, pricing in menu is dif...</td>\n",
       "    </tr>\n",
       "    <tr>\n",
       "      <th>1</th>\n",
       "      <td>5.0</td>\n",
       "      <td>really appreciate their quality and timing . I...</td>\n",
       "    </tr>\n",
       "  </tbody>\n",
       "</table>\n",
       "</div>\n",
       "      <button class=\"colab-df-convert\" onclick=\"convertToInteractive('df-d42044ba-b579-48b7-b471-5f81e1585431')\"\n",
       "              title=\"Convert this dataframe to an interactive table.\"\n",
       "              style=\"display:none;\">\n",
       "        \n",
       "  <svg xmlns=\"http://www.w3.org/2000/svg\" height=\"24px\"viewBox=\"0 0 24 24\"\n",
       "       width=\"24px\">\n",
       "    <path d=\"M0 0h24v24H0V0z\" fill=\"none\"/>\n",
       "    <path d=\"M18.56 5.44l.94 2.06.94-2.06 2.06-.94-2.06-.94-.94-2.06-.94 2.06-2.06.94zm-11 1L8.5 8.5l.94-2.06 2.06-.94-2.06-.94L8.5 2.5l-.94 2.06-2.06.94zm10 10l.94 2.06.94-2.06 2.06-.94-2.06-.94-.94-2.06-.94 2.06-2.06.94z\"/><path d=\"M17.41 7.96l-1.37-1.37c-.4-.4-.92-.59-1.43-.59-.52 0-1.04.2-1.43.59L10.3 9.45l-7.72 7.72c-.78.78-.78 2.05 0 2.83L4 21.41c.39.39.9.59 1.41.59.51 0 1.02-.2 1.41-.59l7.78-7.78 2.81-2.81c.8-.78.8-2.07 0-2.86zM5.41 20L4 18.59l7.72-7.72 1.47 1.35L5.41 20z\"/>\n",
       "  </svg>\n",
       "      </button>\n",
       "      \n",
       "  <style>\n",
       "    .colab-df-container {\n",
       "      display:flex;\n",
       "      flex-wrap:wrap;\n",
       "      gap: 12px;\n",
       "    }\n",
       "\n",
       "    .colab-df-convert {\n",
       "      background-color: #E8F0FE;\n",
       "      border: none;\n",
       "      border-radius: 50%;\n",
       "      cursor: pointer;\n",
       "      display: none;\n",
       "      fill: #1967D2;\n",
       "      height: 32px;\n",
       "      padding: 0 0 0 0;\n",
       "      width: 32px;\n",
       "    }\n",
       "\n",
       "    .colab-df-convert:hover {\n",
       "      background-color: #E2EBFA;\n",
       "      box-shadow: 0px 1px 2px rgba(60, 64, 67, 0.3), 0px 1px 3px 1px rgba(60, 64, 67, 0.15);\n",
       "      fill: #174EA6;\n",
       "    }\n",
       "\n",
       "    [theme=dark] .colab-df-convert {\n",
       "      background-color: #3B4455;\n",
       "      fill: #D2E3FC;\n",
       "    }\n",
       "\n",
       "    [theme=dark] .colab-df-convert:hover {\n",
       "      background-color: #434B5C;\n",
       "      box-shadow: 0px 1px 3px 1px rgba(0, 0, 0, 0.15);\n",
       "      filter: drop-shadow(0px 1px 2px rgba(0, 0, 0, 0.3));\n",
       "      fill: #FFFFFF;\n",
       "    }\n",
       "  </style>\n",
       "\n",
       "      <script>\n",
       "        const buttonEl =\n",
       "          document.querySelector('#df-d42044ba-b579-48b7-b471-5f81e1585431 button.colab-df-convert');\n",
       "        buttonEl.style.display =\n",
       "          google.colab.kernel.accessAllowed ? 'block' : 'none';\n",
       "\n",
       "        async function convertToInteractive(key) {\n",
       "          const element = document.querySelector('#df-d42044ba-b579-48b7-b471-5f81e1585431');\n",
       "          const dataTable =\n",
       "            await google.colab.kernel.invokeFunction('convertToInteractive',\n",
       "                                                     [key], {});\n",
       "          if (!dataTable) return;\n",
       "\n",
       "          const docLinkHtml = 'Like what you see? Visit the ' +\n",
       "            '<a target=\"_blank\" href=https://colab.research.google.com/notebooks/data_table.ipynb>data table notebook</a>'\n",
       "            + ' to learn more about interactive tables.';\n",
       "          element.innerHTML = '';\n",
       "          dataTable['output_type'] = 'display_data';\n",
       "          await google.colab.output.renderOutput(dataTable, element);\n",
       "          const docLink = document.createElement('div');\n",
       "          docLink.innerHTML = docLinkHtml;\n",
       "          element.appendChild(docLink);\n",
       "        }\n",
       "      </script>\n",
       "    </div>\n",
       "  </div>\n",
       "  "
      ],
      "text/plain": [
       "   rating                                        review_text\n",
       "0     1.0  Their service is worst, pricing in menu is dif...\n",
       "1     5.0  really appreciate their quality and timing . I..."
      ]
     },
     "execution_count": 2,
     "metadata": {},
     "output_type": "execute_result"
    }
   ],
   "source": [
    "df = pd.read_csv(r'/content/Zomato_reviews.csv')\n",
    "df.head(2)"
   ]
  },
  {
   "cell_type": "code",
   "execution_count": 3,
   "metadata": {
    "colab": {
     "base_uri": "https://localhost:8080/"
    },
    "id": "u6liudwQKyDJ",
    "outputId": "a8b6c408-fe14-4296-a218-3616aafc7e58"
   },
   "outputs": [
    {
     "data": {
      "text/plain": [
       "(27762, 2)"
      ]
     },
     "execution_count": 3,
     "metadata": {},
     "output_type": "execute_result"
    }
   ],
   "source": [
    "df.shape"
   ]
  },
  {
   "cell_type": "code",
   "execution_count": 4,
   "metadata": {
    "colab": {
     "base_uri": "https://localhost:8080/"
    },
    "id": "BRGiz9MAK0ro",
    "outputId": "4a4f1892-8b78-4e65-a265-fb1466ec87f4"
   },
   "outputs": [
    {
     "data": {
      "text/plain": [
       "rating          0\n",
       "review_text    14\n",
       "dtype: int64"
      ]
     },
     "execution_count": 4,
     "metadata": {},
     "output_type": "execute_result"
    }
   ],
   "source": [
    "# checking for null values\n",
    "df.isnull().sum()"
   ]
  },
  {
   "cell_type": "markdown",
   "metadata": {
    "id": "wIzJwCkEXTgG"
   },
   "source": [
    "#### Dropping null records"
   ]
  },
  {
   "cell_type": "code",
   "execution_count": 5,
   "metadata": {
    "id": "77dEqrgOLQ2P"
   },
   "outputs": [],
   "source": [
    "df.dropna(inplace = True)"
   ]
  },
  {
   "cell_type": "code",
   "execution_count": 6,
   "metadata": {
    "colab": {
     "base_uri": "https://localhost:8080/"
    },
    "id": "M72TczwHL--a",
    "outputId": "142a53e5-ec85-4a36-a05d-2c57575510c7"
   },
   "outputs": [
    {
     "data": {
      "text/plain": [
       "rating         0\n",
       "review_text    0\n",
       "dtype: int64"
      ]
     },
     "execution_count": 6,
     "metadata": {},
     "output_type": "execute_result"
    }
   ],
   "source": [
    "df.isnull().sum()"
   ]
  },
  {
   "cell_type": "markdown",
   "metadata": {
    "id": "fAJO7i_RXbnG"
   },
   "source": [
    "### <font color = brown > Data Cleaning and Preprocessing"
   ]
  },
  {
   "cell_type": "code",
   "execution_count": 7,
   "metadata": {
    "colab": {
     "base_uri": "https://localhost:8080/"
    },
    "id": "_Mgu7RgeMVNt",
    "outputId": "27653876-76c9-479a-d090-85e1df9d583e"
   },
   "outputs": [
    {
     "data": {
      "text/plain": [
       "0        Their service is worst, pricing in menu is dif...\n",
       "1        really appreciate their quality and timing . I...\n",
       "2        Went there on a Friday night, the place was su...\n",
       "3        A very decent place serving good food.\\r\\nOrde...\n",
       "4        One of the BEST places for steaks in the city....\n",
       "                               ...                        \n",
       "27757    Food quality 4.5/5\\r\\nHospitality 4/5\\r\\nManag...\n",
       "27758    Taste of the food is good and the ambience as ...\n",
       "27759    Pizza is really thin crust and made from fresh...\n",
       "27760    Visited last Saturday with my kids ,\\r\\nIt was...\n",
       "27761    I love onesta always and their unlimited offer...\n",
       "Name: review_text, Length: 27748, dtype: object"
      ]
     },
     "execution_count": 7,
     "metadata": {},
     "output_type": "execute_result"
    }
   ],
   "source": [
    "df['review_text']"
   ]
  },
  {
   "cell_type": "code",
   "execution_count": 8,
   "metadata": {
    "id": "85TxLff2MCHQ"
   },
   "outputs": [],
   "source": [
    "df['review_text'] = df['review_text'].apply(lambda x: str.lower(x))"
   ]
  },
  {
   "cell_type": "code",
   "execution_count": 9,
   "metadata": {
    "colab": {
     "base_uri": "https://localhost:8080/"
    },
    "id": "PM9Uxr7ZMx3I",
    "outputId": "42649e9f-8009-48ef-b20c-319e834327fc"
   },
   "outputs": [
    {
     "data": {
      "text/plain": [
       "0        their service is worst, pricing in menu is dif...\n",
       "1        really appreciate their quality and timing . i...\n",
       "2        went there on a friday night, the place was su...\n",
       "3        a very decent place serving good food.\\r\\norde...\n",
       "4        one of the best places for steaks in the city....\n",
       "                               ...                        \n",
       "27757    food quality 4.5/5\\r\\nhospitality 4/5\\r\\nmanag...\n",
       "27758    taste of the food is good and the ambience as ...\n",
       "27759    pizza is really thin crust and made from fresh...\n",
       "27760    visited last saturday with my kids ,\\r\\nit was...\n",
       "27761    i love onesta always and their unlimited offer...\n",
       "Name: review_text, Length: 27748, dtype: object"
      ]
     },
     "execution_count": 9,
     "metadata": {},
     "output_type": "execute_result"
    }
   ],
   "source": [
    "df['review_text']"
   ]
  },
  {
   "cell_type": "markdown",
   "metadata": {
    "id": "1rgcRlQLXiRD"
   },
   "source": [
    "#### Removing \\r\\n which represents (next line)"
   ]
  },
  {
   "cell_type": "code",
   "execution_count": 10,
   "metadata": {
    "id": "bYRXK-ReNdUb"
   },
   "outputs": [],
   "source": [
    "df['review_text'] = df['review_text'].apply(lambda x: x.replace('\\r\\n', ' '))"
   ]
  },
  {
   "cell_type": "markdown",
   "metadata": {
    "id": "IzjU93b3Xn3C"
   },
   "source": [
    "#### Removing Stopwords"
   ]
  },
  {
   "cell_type": "code",
   "execution_count": 11,
   "metadata": {
    "colab": {
     "base_uri": "https://localhost:8080/"
    },
    "id": "MFODFmpNSi3r",
    "outputId": "7f0480d7-9991-46d0-a181-0e4c9a956bd2"
   },
   "outputs": [
    {
     "name": "stdout",
     "output_type": "stream",
     "text": [
      "[nltk_data] Downloading package stopwords to /root/nltk_data...\n",
      "[nltk_data]   Unzipping corpora/stopwords.zip.\n"
     ]
    },
    {
     "data": {
      "text/plain": [
       "True"
      ]
     },
     "execution_count": 11,
     "metadata": {},
     "output_type": "execute_result"
    }
   ],
   "source": [
    "import nltk\n",
    "nltk.download('stopwords')"
   ]
  },
  {
   "cell_type": "code",
   "execution_count": 12,
   "metadata": {
    "id": "zUJX4cRiSHXC"
   },
   "outputs": [],
   "source": [
    "from nltk.corpus import stopwords\n",
    "words = stopwords.words('english')"
   ]
  },
  {
   "cell_type": "code",
   "execution_count": 13,
   "metadata": {
    "colab": {
     "base_uri": "https://localhost:8080/"
    },
    "id": "oh_TOn1oTHsV",
    "outputId": "c2d3865e-44ee-4da5-a0ee-55a0364e36af"
   },
   "outputs": [
    {
     "data": {
      "text/plain": [
       "179"
      ]
     },
     "execution_count": 13,
     "metadata": {},
     "output_type": "execute_result"
    }
   ],
   "source": [
    "len(words)"
   ]
  },
  {
   "cell_type": "code",
   "execution_count": 14,
   "metadata": {
    "id": "A87x9tWFTKV9"
   },
   "outputs": [],
   "source": [
    "want = ['no', 'not', 'don', 'won']"
   ]
  },
  {
   "cell_type": "code",
   "execution_count": 15,
   "metadata": {
    "id": "V8VQoi3FUDQz"
   },
   "outputs": [],
   "source": [
    "for i in want:\n",
    "    words.remove(i)"
   ]
  },
  {
   "cell_type": "code",
   "execution_count": 16,
   "metadata": {
    "colab": {
     "base_uri": "https://localhost:8080/"
    },
    "id": "Q0eng1erUJMp",
    "outputId": "38e60c14-1c4a-4694-cd28-60a7aa325cee"
   },
   "outputs": [
    {
     "data": {
      "text/plain": [
       "175"
      ]
     },
     "execution_count": 16,
     "metadata": {},
     "output_type": "execute_result"
    }
   ],
   "source": [
    "len(words)"
   ]
  },
  {
   "cell_type": "code",
   "execution_count": 17,
   "metadata": {
    "id": "RF8XGT73UMHl"
   },
   "outputs": [],
   "source": [
    "df['review_text'] = df['review_text'].apply(lambda x: ' '.join([i for i in x.split() if i not in words]))"
   ]
  },
  {
   "cell_type": "code",
   "execution_count": 18,
   "metadata": {
    "colab": {
     "base_uri": "https://localhost:8080/"
    },
    "id": "Nq2KvLXBVKz0",
    "outputId": "a1b5e23d-2ad8-40e1-ce19-17717a6c7781"
   },
   "outputs": [
    {
     "data": {
      "text/plain": [
       "0        service worst, pricing menu different bill. gi...\n",
       "1        really appreciate quality timing . tried thatt...\n",
       "2        went friday night, place surprisingly empty. i...\n",
       "3        decent place serving good food. ordered chilli...\n",
       "4        one best places steaks city. tried beef steak ...\n",
       "                               ...                        \n",
       "27757    food quality 4.5/5 hospitality 4/5 management ...\n",
       "27758    taste food good ambience well. need reduce pri...\n",
       "27759    pizza really thin crust made freshly prepared ...\n",
       "27760    visited last saturday kids , superb crowd .ver...\n",
       "27761    love onesta always unlimited offers. really go...\n",
       "Name: review_text, Length: 27748, dtype: object"
      ]
     },
     "execution_count": 18,
     "metadata": {},
     "output_type": "execute_result"
    }
   ],
   "source": [
    "df['review_text']"
   ]
  },
  {
   "cell_type": "code",
   "execution_count": 1,
   "metadata": {},
   "outputs": [],
   "source": [
    "### now our stop words are removed now we shall remove puntuations."
   ]
  },
  {
   "cell_type": "markdown",
   "metadata": {
    "id": "91dH5cYxVdx_"
   },
   "source": [
    "#### Remove Punctuation"
   ]
  },
  {
   "cell_type": "code",
   "execution_count": 19,
   "metadata": {
    "id": "h3exBb-vVRcy"
   },
   "outputs": [],
   "source": [
    "df['review_text'] = df['review_text'].apply(lambda x: re.sub(r'[^\\w\\s]', '', x))"
   ]
  },
  {
   "cell_type": "code",
   "execution_count": 20,
   "metadata": {
    "colab": {
     "base_uri": "https://localhost:8080/"
    },
    "id": "PwAdtR2_WNfr",
    "outputId": "167a961c-d997-46b9-fef6-a456e7c73f07"
   },
   "outputs": [
    {
     "data": {
      "text/plain": [
       "0        service worst pricing menu different bill give...\n",
       "1        really appreciate quality timing  tried thatti...\n",
       "2        went friday night place surprisingly empty int...\n",
       "3        decent place serving good food ordered chilli ...\n",
       "4        one best places steaks city tried beef steak c...\n",
       "                               ...                        \n",
       "27757    food quality 455 hospitality 45 management res...\n",
       "27758    taste food good ambience well need reduce pric...\n",
       "27759    pizza really thin crust made freshly prepared ...\n",
       "27760    visited last saturday kids  superb crowd very ...\n",
       "27761    love onesta always unlimited offers really goo...\n",
       "Name: review_text, Length: 27748, dtype: object"
      ]
     },
     "execution_count": 20,
     "metadata": {},
     "output_type": "execute_result"
    }
   ],
   "source": [
    "df['review_text']"
   ]
  },
  {
   "cell_type": "markdown",
   "metadata": {
    "id": "kyaTuNz3ixYQ"
   },
   "source": [
    "#### Lemmatization\n",
    "-  Applying lemmatization so that the incorectly spelled words are corrected."
   ]
  },
  {
   "cell_type": "code",
   "execution_count": 28,
   "metadata": {
    "colab": {
     "base_uri": "https://localhost:8080/"
    },
    "id": "aiKbR36EjYWJ",
    "outputId": "74f257ab-a13c-4715-e88c-d1ef018c0e9e"
   },
   "outputs": [
    {
     "name": "stdout",
     "output_type": "stream",
     "text": [
      "[nltk_data] Downloading package wordnet to /root/nltk_data...\n",
      "[nltk_data]   Unzipping corpora/wordnet.zip.\n"
     ]
    },
    {
     "data": {
      "text/plain": [
       "True"
      ]
     },
     "execution_count": 28,
     "metadata": {},
     "output_type": "execute_result"
    }
   ],
   "source": [
    "nltk.download('wordnet')"
   ]
  },
  {
   "cell_type": "code",
   "execution_count": 29,
   "metadata": {
    "id": "kQCEv3E7ivHP"
   },
   "outputs": [],
   "source": [
    "from nltk.stem import WordNetLemmatizer\n",
    "  \n",
    "lemmatizer = WordNetLemmatizer()"
   ]
  },
  {
   "cell_type": "code",
   "execution_count": 31,
   "metadata": {
    "id": "gUPJFtUti7l0"
   },
   "outputs": [],
   "source": [
    "df['review_text'] = df['review_text'].apply(lambda x: ' '.join([lemmatizer.lemmatize(i) for i in x.split()]))"
   ]
  },
  {
   "cell_type": "markdown",
   "metadata": {
    "id": "pdhfNOZskG68"
   },
   "source": [
    "#### Removing numbers from reviews\n",
    "- Removing numbers present in the reviews which is not necssary"
   ]
  },
  {
   "cell_type": "code",
   "execution_count": 33,
   "metadata": {
    "id": "fqCLJa74kAyr"
   },
   "outputs": [],
   "source": [
    "df['review_text'] = df['review_text'].apply(lambda x: re.sub(r'[0-9]', '', x))"
   ]
  },
  {
   "cell_type": "code",
   "execution_count": 36,
   "metadata": {
    "id": "_De4I3m1lhvR"
   },
   "outputs": [],
   "source": [
    "df['review_text'] = df['review_text'].apply(lambda x: x.replace('  ', ' '))"
   ]
  },
  {
   "cell_type": "code",
   "execution_count": 37,
   "metadata": {
    "colab": {
     "base_uri": "https://localhost:8080/"
    },
    "id": "7dLLfrZnlxRu",
    "outputId": "010176d9-32c3-4b25-ff4e-587b97a19870"
   },
   "outputs": [
    {
     "data": {
      "text/plain": [
       "0        service worst pricing menu different bill give...\n",
       "1        really appreciate quality timing tried thattil...\n",
       "2        went friday night place surprisingly empty int...\n",
       "3        decent place serving good food ordered chilli ...\n",
       "4        one best place steak city tried beef steak chi...\n",
       "                               ...                        \n",
       "27757    food quality hospitality management response c...\n",
       "27758    taste food good ambience well need reduce pric...\n",
       "27759    pizza really thin crust made freshly prepared ...\n",
       "27760    visited last saturday kid superb crowd very go...\n",
       "27761    love onesta always unlimited offer really good...\n",
       "Name: review_text, Length: 27748, dtype: object"
      ]
     },
     "execution_count": 37,
     "metadata": {},
     "output_type": "execute_result"
    }
   ],
   "source": [
    "df['review_text']"
   ]
  },
  {
   "cell_type": "code",
   "execution_count": 38,
   "metadata": {
    "colab": {
     "base_uri": "https://localhost:8080/",
     "height": 206
    },
    "id": "53p4rr8jXMET",
    "outputId": "d31ed2e9-0c10-42f5-fc45-22dd288b416a"
   },
   "outputs": [
    {
     "data": {
      "text/html": [
       "\n",
       "  <div id=\"df-2535c073-eb76-41f3-b3b0-d5573fb5f8b8\">\n",
       "    <div class=\"colab-df-container\">\n",
       "      <div>\n",
       "<style scoped>\n",
       "    .dataframe tbody tr th:only-of-type {\n",
       "        vertical-align: middle;\n",
       "    }\n",
       "\n",
       "    .dataframe tbody tr th {\n",
       "        vertical-align: top;\n",
       "    }\n",
       "\n",
       "    .dataframe thead th {\n",
       "        text-align: right;\n",
       "    }\n",
       "</style>\n",
       "<table border=\"1\" class=\"dataframe\">\n",
       "  <thead>\n",
       "    <tr style=\"text-align: right;\">\n",
       "      <th></th>\n",
       "      <th>rating</th>\n",
       "      <th>review_text</th>\n",
       "    </tr>\n",
       "  </thead>\n",
       "  <tbody>\n",
       "    <tr>\n",
       "      <th>0</th>\n",
       "      <td>1.0</td>\n",
       "      <td>service worst pricing menu different bill give...</td>\n",
       "    </tr>\n",
       "    <tr>\n",
       "      <th>1</th>\n",
       "      <td>5.0</td>\n",
       "      <td>really appreciate quality timing tried thattil...</td>\n",
       "    </tr>\n",
       "    <tr>\n",
       "      <th>2</th>\n",
       "      <td>4.0</td>\n",
       "      <td>went friday night place surprisingly empty int...</td>\n",
       "    </tr>\n",
       "    <tr>\n",
       "      <th>3</th>\n",
       "      <td>4.0</td>\n",
       "      <td>decent place serving good food ordered chilli ...</td>\n",
       "    </tr>\n",
       "    <tr>\n",
       "      <th>4</th>\n",
       "      <td>5.0</td>\n",
       "      <td>one best place steak city tried beef steak chi...</td>\n",
       "    </tr>\n",
       "  </tbody>\n",
       "</table>\n",
       "</div>\n",
       "      <button class=\"colab-df-convert\" onclick=\"convertToInteractive('df-2535c073-eb76-41f3-b3b0-d5573fb5f8b8')\"\n",
       "              title=\"Convert this dataframe to an interactive table.\"\n",
       "              style=\"display:none;\">\n",
       "        \n",
       "  <svg xmlns=\"http://www.w3.org/2000/svg\" height=\"24px\"viewBox=\"0 0 24 24\"\n",
       "       width=\"24px\">\n",
       "    <path d=\"M0 0h24v24H0V0z\" fill=\"none\"/>\n",
       "    <path d=\"M18.56 5.44l.94 2.06.94-2.06 2.06-.94-2.06-.94-.94-2.06-.94 2.06-2.06.94zm-11 1L8.5 8.5l.94-2.06 2.06-.94-2.06-.94L8.5 2.5l-.94 2.06-2.06.94zm10 10l.94 2.06.94-2.06 2.06-.94-2.06-.94-.94-2.06-.94 2.06-2.06.94z\"/><path d=\"M17.41 7.96l-1.37-1.37c-.4-.4-.92-.59-1.43-.59-.52 0-1.04.2-1.43.59L10.3 9.45l-7.72 7.72c-.78.78-.78 2.05 0 2.83L4 21.41c.39.39.9.59 1.41.59.51 0 1.02-.2 1.41-.59l7.78-7.78 2.81-2.81c.8-.78.8-2.07 0-2.86zM5.41 20L4 18.59l7.72-7.72 1.47 1.35L5.41 20z\"/>\n",
       "  </svg>\n",
       "      </button>\n",
       "      \n",
       "  <style>\n",
       "    .colab-df-container {\n",
       "      display:flex;\n",
       "      flex-wrap:wrap;\n",
       "      gap: 12px;\n",
       "    }\n",
       "\n",
       "    .colab-df-convert {\n",
       "      background-color: #E8F0FE;\n",
       "      border: none;\n",
       "      border-radius: 50%;\n",
       "      cursor: pointer;\n",
       "      display: none;\n",
       "      fill: #1967D2;\n",
       "      height: 32px;\n",
       "      padding: 0 0 0 0;\n",
       "      width: 32px;\n",
       "    }\n",
       "\n",
       "    .colab-df-convert:hover {\n",
       "      background-color: #E2EBFA;\n",
       "      box-shadow: 0px 1px 2px rgba(60, 64, 67, 0.3), 0px 1px 3px 1px rgba(60, 64, 67, 0.15);\n",
       "      fill: #174EA6;\n",
       "    }\n",
       "\n",
       "    [theme=dark] .colab-df-convert {\n",
       "      background-color: #3B4455;\n",
       "      fill: #D2E3FC;\n",
       "    }\n",
       "\n",
       "    [theme=dark] .colab-df-convert:hover {\n",
       "      background-color: #434B5C;\n",
       "      box-shadow: 0px 1px 3px 1px rgba(0, 0, 0, 0.15);\n",
       "      filter: drop-shadow(0px 1px 2px rgba(0, 0, 0, 0.3));\n",
       "      fill: #FFFFFF;\n",
       "    }\n",
       "  </style>\n",
       "\n",
       "      <script>\n",
       "        const buttonEl =\n",
       "          document.querySelector('#df-2535c073-eb76-41f3-b3b0-d5573fb5f8b8 button.colab-df-convert');\n",
       "        buttonEl.style.display =\n",
       "          google.colab.kernel.accessAllowed ? 'block' : 'none';\n",
       "\n",
       "        async function convertToInteractive(key) {\n",
       "          const element = document.querySelector('#df-2535c073-eb76-41f3-b3b0-d5573fb5f8b8');\n",
       "          const dataTable =\n",
       "            await google.colab.kernel.invokeFunction('convertToInteractive',\n",
       "                                                     [key], {});\n",
       "          if (!dataTable) return;\n",
       "\n",
       "          const docLinkHtml = 'Like what you see? Visit the ' +\n",
       "            '<a target=\"_blank\" href=https://colab.research.google.com/notebooks/data_table.ipynb>data table notebook</a>'\n",
       "            + ' to learn more about interactive tables.';\n",
       "          element.innerHTML = '';\n",
       "          dataTable['output_type'] = 'display_data';\n",
       "          await google.colab.output.renderOutput(dataTable, element);\n",
       "          const docLink = document.createElement('div');\n",
       "          docLink.innerHTML = docLinkHtml;\n",
       "          element.appendChild(docLink);\n",
       "        }\n",
       "      </script>\n",
       "    </div>\n",
       "  </div>\n",
       "  "
      ],
      "text/plain": [
       "   rating                                        review_text\n",
       "0     1.0  service worst pricing menu different bill give...\n",
       "1     5.0  really appreciate quality timing tried thattil...\n",
       "2     4.0  went friday night place surprisingly empty int...\n",
       "3     4.0  decent place serving good food ordered chilli ...\n",
       "4     5.0  one best place steak city tried beef steak chi..."
      ]
     },
     "execution_count": 38,
     "metadata": {},
     "output_type": "execute_result"
    }
   ],
   "source": [
    "df.head()"
   ]
  },
  {
   "cell_type": "code",
   "execution_count": 39,
   "metadata": {
    "id": "rYCZhHCTYARy"
   },
   "outputs": [],
   "source": [
    "## So our data is cleaned and we can move to next step wich is model bulding."
   ]
  },
  {
   "cell_type": "markdown",
   "metadata": {
    "id": "o0ncdT5AYbb6"
   },
   "source": [
    "#### Train Test Split"
   ]
  },
  {
   "cell_type": "code",
   "execution_count": 40,
   "metadata": {
    "id": "t-gUAU08YJcU"
   },
   "outputs": [],
   "source": [
    "from sklearn.model_selection import train_test_split"
   ]
  },
  {
   "cell_type": "code",
   "execution_count": 41,
   "metadata": {
    "colab": {
     "base_uri": "https://localhost:8080/"
    },
    "id": "eQWR-6SEZK00",
    "outputId": "1edbcecb-7f04-4218-9839-2303b5041256"
   },
   "outputs": [
    {
     "name": "stdout",
     "output_type": "stream",
     "text": [
      "X_train (19423,)\n",
      "X_test (8325,)\n",
      "Y_train (19423,)\n",
      "Y_test (8325,)\n"
     ]
    }
   ],
   "source": [
    "X_train, X_test, Y_train, Y_test = train_test_split(df['review_text'], df['rating'], test_size = 0.3, random_state = 2)\n",
    "print('X_train', X_train.shape)\n",
    "print('X_test', X_test.shape)\n",
    "print('Y_train', Y_train.shape)\n",
    "print('Y_test', Y_test.shape)"
   ]
  },
  {
   "cell_type": "code",
   "execution_count": 42,
   "metadata": {
    "id": "Y6wMsX_5brps"
   },
   "outputs": [],
   "source": [
    "from sklearn.feature_extraction.text import TfidfVectorizer"
   ]
  },
  {
   "cell_type": "code",
   "execution_count": 43,
   "metadata": {
    "id": "FH4tU0K6dlM4"
   },
   "outputs": [],
   "source": [
    "tfidf = TfidfVectorizer(stop_words = 'english', max_features = 5000)\n",
    "X_train_vec = tfidf.fit_transform(X_train)\n",
    "X_test_vec = tfidf.transform(X_test)"
   ]
  },
  {
   "cell_type": "markdown",
   "metadata": {
    "id": "Xuwz-PbOin82"
   },
   "source": [
    "### <font color = brown > Random Forest (ensembled model)"
   ]
  },
  {
   "cell_type": "code",
   "execution_count": 44,
   "metadata": {
    "id": "Umpd8uHiHmgd"
   },
   "outputs": [],
   "source": [
    "from sklearn.ensemble import RandomForestRegressor\n",
    "rfr = RandomForestRegressor(random_state = 5)"
   ]
  },
  {
   "cell_type": "code",
   "execution_count": 45,
   "metadata": {
    "colab": {
     "base_uri": "https://localhost:8080/"
    },
    "id": "0xB_ho7hJLb0",
    "outputId": "c076cd73-733f-4397-c9fa-5c3cfe7c14d5"
   },
   "outputs": [
    {
     "data": {
      "text/plain": [
       "RandomForestRegressor(random_state=5)"
      ]
     },
     "execution_count": 45,
     "metadata": {},
     "output_type": "execute_result"
    }
   ],
   "source": [
    "rfr.fit(X_train_vec, Y_train)"
   ]
  },
  {
   "cell_type": "code",
   "execution_count": 46,
   "metadata": {
    "id": "veWPAxD7LFRP"
   },
   "outputs": [],
   "source": [
    "pred_y = rfr.predict(X_test_vec)"
   ]
  },
  {
   "cell_type": "code",
   "execution_count": 47,
   "metadata": {
    "colab": {
     "base_uri": "https://localhost:8080/"
    },
    "id": "82CWzTo8M9nU",
    "outputId": "eaa599e2-2f1c-46dd-dbaf-cb10f577563b"
   },
   "outputs": [
    {
     "data": {
      "text/plain": [
       "(8325,)"
      ]
     },
     "execution_count": 47,
     "metadata": {},
     "output_type": "execute_result"
    }
   ],
   "source": [
    "pred_y.shape"
   ]
  },
  {
   "cell_type": "markdown",
   "metadata": {
    "id": "Z9dXLgpkihF4"
   },
   "source": [
    "#### Model Evaluation"
   ]
  },
  {
   "cell_type": "code",
   "execution_count": 67,
   "metadata": {
    "id": "sbLeZFspLtov"
   },
   "outputs": [],
   "source": [
    "from sklearn.metrics import mean_squared_error, r2_score, make_scorer"
   ]
  },
  {
   "cell_type": "code",
   "execution_count": 53,
   "metadata": {
    "colab": {
     "base_uri": "https://localhost:8080/"
    },
    "id": "4PGXGN6fMvAa",
    "outputId": "8b6ca315-e3d6-426d-e18b-1c05c10bb132"
   },
   "outputs": [
    {
     "name": "stdout",
     "output_type": "stream",
     "text": [
      "mse :  0.2920834236297081\n",
      "rmse :  0.5404474291082418\n",
      "r2score :  0.8261391782186319\n"
     ]
    }
   ],
   "source": [
    "mse = mean_squared_error(Y_test, pred_y)\n",
    "print('mse : ', mse)\n",
    "print('rmse : ', mean_squared_error(Y_test, pred_y, squared = False))\n",
    "print('r2score : ', r2_score(Y_test, pred_y))"
   ]
  },
  {
   "cell_type": "markdown",
   "metadata": {
    "id": "wt0S-d7Yit0n"
   },
   "source": [
    "#### Grid Search CV"
   ]
  },
  {
   "cell_type": "code",
   "execution_count": 59,
   "metadata": {
    "id": "M5deOhxuisyv"
   },
   "outputs": [],
   "source": [
    "from sklearn.model_selection import GridSearchCV"
   ]
  },
  {
   "cell_type": "code",
   "execution_count": 68,
   "metadata": {
    "id": "iqsUMktRqqHI"
   },
   "outputs": [],
   "source": [
    "def MSE(y_true,y_pred):\n",
    "    mse = mean_squared_error(y_true, y_pred)\n",
    "    print('MSE: %2.3f' % mse)\n",
    "    return mse\n",
    "\n",
    "def R2(y_true,y_pred):    \n",
    "     r2 = r2_score(y_true, y_pred)\n",
    "     print('R2: %2.3f' % r2)\n",
    "     return r2\n",
    "\n",
    "def two_score(y_true,y_pred):    \n",
    "    MSE(y_true,y_pred) #set score here and not below if using MSE in GridCV\n",
    "    score = R2(y_true,y_pred)\n",
    "    return score\n",
    "\n",
    "def two_scorer():\n",
    "    return make_scorer(two_score, greater_is_better=True)"
   ]
  },
  {
   "cell_type": "code",
   "execution_count": 69,
   "metadata": {
    "id": "l7IRVRBgqFKR"
   },
   "outputs": [],
   "source": [
    "params = {'max_features': ['auto', 'sqrt', 'log2'],\n",
    "          'max_depth' : [10, 15, 20, 25]}"
   ]
  },
  {
   "cell_type": "code",
   "execution_count": 70,
   "metadata": {
    "id": "DFf93Jtdi55Z"
   },
   "outputs": [],
   "source": [
    "gcv = GridSearchCV(rfr, cv = 5, param_grid = params, scoring=two_scorer())"
   ]
  },
  {
   "cell_type": "code",
   "execution_count": 71,
   "metadata": {
    "colab": {
     "base_uri": "https://localhost:8080/"
    },
    "id": "ttGeZ4wSqwK0",
    "outputId": "c56d21e1-7118-4373-85ca-d050f962e0a6"
   },
   "outputs": [
    {
     "name": "stdout",
     "output_type": "stream",
     "text": [
      "MSE: 0.973\n",
      "R2: 0.405\n",
      "MSE: 0.907\n",
      "R2: 0.426\n",
      "MSE: 0.921\n",
      "R2: 0.446\n",
      "MSE: 0.891\n",
      "R2: 0.456\n",
      "MSE: 0.903\n",
      "R2: 0.458\n",
      "MSE: 1.253\n",
      "R2: 0.234\n",
      "MSE: 1.207\n",
      "R2: 0.236\n",
      "MSE: 1.241\n",
      "R2: 0.254\n",
      "MSE: 1.249\n",
      "R2: 0.238\n",
      "MSE: 1.255\n",
      "R2: 0.247\n",
      "MSE: 1.474\n",
      "R2: 0.098\n",
      "MSE: 1.426\n",
      "R2: 0.098\n",
      "MSE: 1.499\n",
      "R2: 0.099\n",
      "MSE: 1.478\n",
      "R2: 0.098\n",
      "MSE: 1.502\n",
      "R2: 0.099\n",
      "MSE: 0.777\n",
      "R2: 0.525\n",
      "MSE: 0.742\n",
      "R2: 0.531\n",
      "MSE: 0.730\n",
      "R2: 0.561\n",
      "MSE: 0.726\n",
      "R2: 0.557\n",
      "MSE: 0.738\n",
      "R2: 0.557\n",
      "MSE: 1.100\n",
      "R2: 0.327\n",
      "MSE: 1.070\n",
      "R2: 0.323\n",
      "MSE: 1.087\n",
      "R2: 0.347\n",
      "MSE: 1.097\n",
      "R2: 0.331\n",
      "MSE: 1.105\n",
      "R2: 0.337\n",
      "MSE: 1.396\n",
      "R2: 0.146\n",
      "MSE: 1.355\n",
      "R2: 0.143\n",
      "MSE: 1.421\n",
      "R2: 0.145\n",
      "MSE: 1.405\n",
      "R2: 0.143\n",
      "MSE: 1.429\n",
      "R2: 0.143\n",
      "MSE: 0.654\n",
      "R2: 0.600\n",
      "MSE: 0.632\n",
      "R2: 0.600\n",
      "MSE: 0.617\n",
      "R2: 0.629\n",
      "MSE: 0.623\n",
      "R2: 0.620\n",
      "MSE: 0.638\n",
      "R2: 0.617\n",
      "MSE: 0.970\n",
      "R2: 0.407\n",
      "MSE: 0.948\n",
      "R2: 0.400\n",
      "MSE: 0.955\n",
      "R2: 0.426\n",
      "MSE: 0.972\n",
      "R2: 0.407\n",
      "MSE: 0.974\n",
      "R2: 0.416\n",
      "MSE: 1.325\n",
      "R2: 0.190\n",
      "MSE: 1.292\n",
      "R2: 0.183\n",
      "MSE: 1.353\n",
      "R2: 0.186\n",
      "MSE: 1.332\n",
      "R2: 0.187\n",
      "MSE: 1.356\n",
      "R2: 0.186\n",
      "MSE: 0.575\n",
      "R2: 0.649\n",
      "MSE: 0.560\n",
      "R2: 0.646\n",
      "MSE: 0.541\n",
      "R2: 0.675\n",
      "MSE: 0.543\n",
      "R2: 0.669\n",
      "MSE: 0.570\n",
      "R2: 0.658\n",
      "MSE: 0.864\n",
      "R2: 0.471\n",
      "MSE: 0.850\n",
      "R2: 0.462\n",
      "MSE: 0.844\n",
      "R2: 0.492\n",
      "MSE: 0.867\n",
      "R2: 0.471\n",
      "MSE: 0.862\n",
      "R2: 0.483\n",
      "MSE: 1.257\n",
      "R2: 0.231\n",
      "MSE: 1.223\n",
      "R2: 0.227\n",
      "MSE: 1.279\n",
      "R2: 0.231\n",
      "MSE: 1.264\n",
      "R2: 0.229\n",
      "MSE: 1.291\n",
      "R2: 0.226\n"
     ]
    },
    {
     "data": {
      "text/plain": [
       "GridSearchCV(cv=5, estimator=RandomForestRegressor(random_state=5),\n",
       "             param_grid={'max_depth': [10, 15, 20, 25],\n",
       "                         'max_features': ['auto', 'sqrt', 'log2']},\n",
       "             scoring=make_scorer(two_score))"
      ]
     },
     "execution_count": 71,
     "metadata": {},
     "output_type": "execute_result"
    }
   ],
   "source": [
    "gcv.fit(X_train_vec, Y_train)"
   ]
  },
  {
   "cell_type": "code",
   "execution_count": 72,
   "metadata": {
    "colab": {
     "base_uri": "https://localhost:8080/"
    },
    "id": "QFsWzsruyDDT",
    "outputId": "6b760cb5-fc16-4112-a5b6-6cb4b1240930"
   },
   "outputs": [
    {
     "data": {
      "text/plain": [
       "RandomForestRegressor(max_depth=25, random_state=5)"
      ]
     },
     "execution_count": 72,
     "metadata": {},
     "output_type": "execute_result"
    }
   ],
   "source": [
    "gcv.best_estimator_"
   ]
  },
  {
   "cell_type": "code",
   "execution_count": 73,
   "metadata": {
    "colab": {
     "base_uri": "https://localhost:8080/"
    },
    "id": "nOz-3zrIxhjb",
    "outputId": "1bd66141-f4c2-48fe-d6d5-9248ba54dac1"
   },
   "outputs": [
    {
     "data": {
      "text/plain": [
       "{'max_depth': 25, 'max_features': 'auto'}"
      ]
     },
     "execution_count": 73,
     "metadata": {},
     "output_type": "execute_result"
    }
   ],
   "source": [
    "gcv.best_params_"
   ]
  },
  {
   "cell_type": "code",
   "execution_count": 74,
   "metadata": {
    "colab": {
     "base_uri": "https://localhost:8080/"
    },
    "id": "hURgpNUWyNAq",
    "outputId": "54423b0b-3d5a-4042-bca3-799e82cb509a"
   },
   "outputs": [
    {
     "data": {
      "text/plain": [
       "0.6591920911457401"
      ]
     },
     "execution_count": 74,
     "metadata": {},
     "output_type": "execute_result"
    }
   ],
   "source": [
    "gcv.best_score_"
   ]
  },
  {
   "cell_type": "markdown",
   "metadata": {
    "id": "Hn98znrNySS5"
   },
   "source": [
    "#### Creating model with best params"
   ]
  },
  {
   "cell_type": "code",
   "execution_count": 75,
   "metadata": {
    "colab": {
     "base_uri": "https://localhost:8080/"
    },
    "id": "z66LIGxMxvl3",
    "outputId": "28fb26c4-b006-48d8-b94d-988342d6bd35"
   },
   "outputs": [
    {
     "data": {
      "text/plain": [
       "RandomForestRegressor(max_depth=25, random_state=5)"
      ]
     },
     "execution_count": 75,
     "metadata": {},
     "output_type": "execute_result"
    }
   ],
   "source": [
    "rfr1 = RandomForestRegressor(random_state = 5, max_depth = 25, max_features = 'auto')\n",
    "rfr1.fit(X_train_vec, Y_train)"
   ]
  },
  {
   "cell_type": "code",
   "execution_count": 76,
   "metadata": {
    "id": "eXRXM9QzyGIH"
   },
   "outputs": [],
   "source": [
    "pred_y1 = rfr1.predict(X_test_vec)"
   ]
  },
  {
   "cell_type": "code",
   "execution_count": 78,
   "metadata": {
    "colab": {
     "base_uri": "https://localhost:8080/"
    },
    "id": "i-wMehy8zaHC",
    "outputId": "81efa73a-6339-4288-afc4-6b3ff9a64dfb"
   },
   "outputs": [
    {
     "name": "stdout",
     "output_type": "stream",
     "text": [
      "mse :  0.5534258090580201\n",
      "rmse :  0.7439259432618411\n",
      "R2Score :  0.6705767661781841\n"
     ]
    }
   ],
   "source": [
    "mse = mean_squared_error(Y_test, pred_y1)\n",
    "print('mse : ', mse)\n",
    "print('rmse : ', mean_squared_error(Y_test, pred_y1, squared = False))\n",
    "print('R2Score : ',r2_score(Y_test, pred_y1))"
   ]
  },
  {
   "cell_type": "markdown",
   "metadata": {},
   "source": [
    "<font color = olive > ***The score in the cell below if of rfr model which is more accurate score than the score which we achieved by GridSearch CV so we shall choose this model.***"
   ]
  },
  {
   "cell_type": "code",
   "execution_count": 53,
   "metadata": {
    "colab": {
     "base_uri": "https://localhost:8080/"
    },
    "id": "4PGXGN6fMvAa",
    "outputId": "8b6ca315-e3d6-426d-e18b-1c05c10bb132"
   },
   "outputs": [
    {
     "name": "stdout",
     "output_type": "stream",
     "text": [
      "mse :  0.2920834236297081\n",
      "rmse :  0.5404474291082418\n",
      "r2score :  0.8261391782186319\n"
     ]
    }
   ],
   "source": [
    "mse = mean_squared_error(Y_test, pred_y)\n",
    "print('mse : ', mse)\n",
    "print('rmse : ', mean_squared_error(Y_test, pred_y, squared = False))\n",
    "print('r2score : ', r2_score(Y_test, pred_y))"
   ]
  },
  {
   "cell_type": "markdown",
   "metadata": {},
   "source": [
    "<font color = olive > ***NOTE: We have just applied GtridSearchCV with the parameter given in the question due to time constrain, but we can increase the R2 score and reduce mse by giving different parameters in GRIdSearch CV. But for now just take this mode with R2 of 82% and mse 0f 0.29.***"
   ]
  },
  {
   "cell_type": "markdown",
   "metadata": {},
   "source": [
    "# <font color = purple> **Conclusion :** \n",
    "  <font color = purple>   So we have created a RandomForestRegressor model predict the rating of a customer by using there review so that we can validated the rating given by the customer. Which will help us to validated the rating given by the customer. This will help us indentify case of mismatch and we can remove those mismatched reviews from zomato which will that build customer trust on the platform and helps the user get an accurate picture of the restaurant.\n",
    "    "
   ]
  }
 ],
 "metadata": {
  "colab": {
   "collapsed_sections": [],
   "name": "Mini Project.ipynb",
   "provenance": []
  },
  "kernelspec": {
   "display_name": "Python 3",
   "language": "python",
   "name": "python3"
  },
  "language_info": {
   "codemirror_mode": {
    "name": "ipython",
    "version": 3
   },
   "file_extension": ".py",
   "mimetype": "text/x-python",
   "name": "python",
   "nbconvert_exporter": "python",
   "pygments_lexer": "ipython3",
   "version": "3.8.8"
  }
 },
 "nbformat": 4,
 "nbformat_minor": 1
}
